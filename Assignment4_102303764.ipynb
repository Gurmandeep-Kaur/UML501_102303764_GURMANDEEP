{
  "nbformat": 4,
  "nbformat_minor": 0,
  "metadata": {
    "colab": {
      "provenance": [],
      "authorship_tag": "ABX9TyPWWtRILBxi5J3Tk2r/faUa"
    },
    "kernelspec": {
      "name": "python3",
      "display_name": "Python 3"
    },
    "language_info": {
      "name": "python"
    }
  },
  "cells": [
    {
      "cell_type": "code",
      "execution_count": 1,
      "metadata": {
        "id": "9CCsQrN10g5k"
      },
      "outputs": [],
      "source": [
        "# Import libraries\n",
        "import requests\n",
        "from bs4 import BeautifulSoup\n",
        "\n",
        "import pandas as pd"
      ]
    },
    {
      "cell_type": "markdown",
      "source": [
        "Q1: Books to Scrape - Scraping all books with pagination"
      ],
      "metadata": {
        "id": "_zKvDpHx4Kw4"
      }
    },
    {
      "cell_type": "code",
      "source": [
        "base_url = \"https://books.toscrape.com/catalogue/page-{}.html\"\n",
        "books = []\n",
        "\n",
        "page = 1\n",
        "while True:\n",
        "    r = requests.get(base_url.format(page))\n",
        "    if r.status_code != 200:\n",
        "        break\n",
        "\n",
        "    soup = BeautifulSoup(r.text, \"html.parser\")\n",
        "    items = soup.find_all(\"article\", class_=\"product_pod\")\n",
        "    if not items:\n",
        "        break\n",
        "\n",
        "    for item in items:\n",
        "        title = item.h3.a[\"title\"]\n",
        "        price = item.find(\"p\", class_=\"price_color\").text.strip()\n",
        "        availability = item.find(\"p\", class_=\"instock availability\").text.strip()\n",
        "        rating = item.find(\"p\", class_=\"star-rating\")[\"class\"][1]\n",
        "        books.append([title, price, availability, rating])\n",
        "\n",
        "    page += 1\n",
        "\n",
        "df_books = pd.DataFrame(books, columns=[\"Title\", \"Price\", \"Availability\", \"Star Rating\"])\n",
        "df_books.to_csv(\"books.csv\", index=False)\n",
        "\n",
        "print(\"Total books scraped:\", df_books.shape[0])\n",
        "print(\"\\nSample data:\\n\")\n",
        "print(df_books.head())"
      ],
      "metadata": {
        "colab": {
          "base_uri": "https://localhost:8080/"
        },
        "id": "urotOlVJ4KdX",
        "outputId": "5f57b579-d100-463d-e94e-2bc363da73cb"
      },
      "execution_count": 5,
      "outputs": [
        {
          "output_type": "stream",
          "name": "stdout",
          "text": [
            "Total books scraped: 1000\n",
            "\n",
            "Sample data:\n",
            "\n",
            "                                   Title    Price Availability Star Rating\n",
            "0                   A Light in the Attic  Â£51.77     In stock       Three\n",
            "1                     Tipping the Velvet  Â£53.74     In stock         One\n",
            "2                             Soumission  Â£50.10     In stock         One\n",
            "3                          Sharp Objects  Â£47.82     In stock        Four\n",
            "4  Sapiens: A Brief History of Humankind  Â£54.23     In stock        Five\n"
          ]
        }
      ]
    },
    {
      "cell_type": "markdown",
      "source": [
        "Q2: IMDB Top 250 Movies"
      ],
      "metadata": {
        "id": "VSS3cfLY_5nL"
      }
    },
    {
      "cell_type": "markdown",
      "source": [
        "**Note:**\n",
        "\n",
        "This code uses Selenium to scrape IMDB Top 250 as requested.  \n",
        "\n",
        "However, in Google Colab, headless Chrome does not fully render the JavaScript content on IMDB's page.  \n",
        "\n",
        "As a result, **rows** is empty, and **df_imdb** contains 0 rows.  \n"
      ],
      "metadata": {
        "id": "QBvpCzahgsFW"
      }
    },
    {
      "cell_type": "code",
      "source": [
        "!pip install selenium\n",
        "!pip install chromedriver_autoinstaller\n",
        "\n",
        "import chromedriver_autoinstaller\n",
        "from selenium import webdriver\n",
        "from selenium.webdriver.common.by import By\n",
        "import pandas as pd\n",
        "import time\n",
        "\n",
        "chromedriver_autoinstaller.install()\n",
        "options = webdriver.ChromeOptions()\n",
        "options.add_argument(\"--headless\")\n",
        "options.add_argument(\"--no-sandbox\")\n",
        "options.add_argument(\"--disable-dev-shm-usage\")\n",
        "\n",
        "driver = webdriver.Chrome(options=options)\n",
        "driver.get(\"https://www.imdb.com/chart/top/\")\n",
        "time.sleep(3)\n",
        "\n",
        "movies = []\n",
        "rows = driver.find_elements(By.CSS_SELECTOR, \"table.chart.full-width tbody tr\")\n",
        "\n",
        "for row in rows:\n",
        "    rank = int(row.find_element(By.CSS_SELECTOR, \"td.titleColumn\").text.split(\".\")[0])\n",
        "    title = row.find_element(By.CSS_SELECTOR, \"td.titleColumn a\").text\n",
        "    year = row.find_element(By.CSS_SELECTOR, \"td.titleColumn span\").text.strip(\"()\")\n",
        "    rating = row.find_element(By.CSS_SELECTOR, \"td.imdbRating strong\").text\n",
        "    movies.append([rank, title, year, rating])\n",
        "\n",
        "driver.quit()\n",
        "\n",
        "df_imdb = pd.DataFrame(movies, columns=[\"Rank\", \"Title\", \"Year\", \"IMDB Rating\"])\n",
        "df_imdb.to_csv(\"imdb_top250.csv\", index=False)\n",
        "\n",
        "print(\"Total movies scraped:\", df_imdb.shape[0])\n",
        "print(df_imdb.head())"
      ],
      "metadata": {
        "colab": {
          "base_uri": "https://localhost:8080/"
        },
        "id": "ZnH9Lb743QGb",
        "outputId": "ffaf79b6-66f0-43ad-f654-efb9fc0fbade"
      },
      "execution_count": 24,
      "outputs": [
        {
          "output_type": "stream",
          "name": "stdout",
          "text": [
            "Requirement already satisfied: selenium in /usr/local/lib/python3.12/dist-packages (4.35.0)\n",
            "Requirement already satisfied: urllib3<3.0,>=2.5.0 in /usr/local/lib/python3.12/dist-packages (from urllib3[socks]<3.0,>=2.5.0->selenium) (2.5.0)\n",
            "Requirement already satisfied: trio~=0.30.0 in /usr/local/lib/python3.12/dist-packages (from selenium) (0.30.0)\n",
            "Requirement already satisfied: trio-websocket~=0.12.2 in /usr/local/lib/python3.12/dist-packages (from selenium) (0.12.2)\n",
            "Requirement already satisfied: certifi>=2025.6.15 in /usr/local/lib/python3.12/dist-packages (from selenium) (2025.8.3)\n",
            "Requirement already satisfied: typing_extensions~=4.14.0 in /usr/local/lib/python3.12/dist-packages (from selenium) (4.14.1)\n",
            "Requirement already satisfied: websocket-client~=1.8.0 in /usr/local/lib/python3.12/dist-packages (from selenium) (1.8.0)\n",
            "Requirement already satisfied: attrs>=23.2.0 in /usr/local/lib/python3.12/dist-packages (from trio~=0.30.0->selenium) (25.3.0)\n",
            "Requirement already satisfied: sortedcontainers in /usr/local/lib/python3.12/dist-packages (from trio~=0.30.0->selenium) (2.4.0)\n",
            "Requirement already satisfied: idna in /usr/local/lib/python3.12/dist-packages (from trio~=0.30.0->selenium) (3.10)\n",
            "Requirement already satisfied: outcome in /usr/local/lib/python3.12/dist-packages (from trio~=0.30.0->selenium) (1.3.0.post0)\n",
            "Requirement already satisfied: sniffio>=1.3.0 in /usr/local/lib/python3.12/dist-packages (from trio~=0.30.0->selenium) (1.3.1)\n",
            "Requirement already satisfied: wsproto>=0.14 in /usr/local/lib/python3.12/dist-packages (from trio-websocket~=0.12.2->selenium) (1.2.0)\n",
            "Requirement already satisfied: pysocks!=1.5.7,<2.0,>=1.5.6 in /usr/local/lib/python3.12/dist-packages (from urllib3[socks]<3.0,>=2.5.0->selenium) (1.7.1)\n",
            "Requirement already satisfied: h11<1,>=0.9.0 in /usr/local/lib/python3.12/dist-packages (from wsproto>=0.14->trio-websocket~=0.12.2->selenium) (0.16.0)\n",
            "Requirement already satisfied: chromedriver_autoinstaller in /usr/local/lib/python3.12/dist-packages (0.6.4)\n",
            "Requirement already satisfied: packaging>=23.1 in /usr/local/lib/python3.12/dist-packages (from chromedriver_autoinstaller) (25.0)\n",
            "Total movies scraped: 0\n",
            "Empty DataFrame\n",
            "Columns: [Rank, Title, Year, IMDB Rating]\n",
            "Index: []\n"
          ]
        }
      ]
    },
    {
      "cell_type": "markdown",
      "source": [
        "Q3: Weather Information for Top World Cities"
      ],
      "metadata": {
        "id": "QJDZt2j9eS1-"
      }
    },
    {
      "cell_type": "code",
      "source": [
        "base_url = \"https://www.timeanddate.com/weather/\"\n",
        "cities = [\"usa/new-york\", \"uk/london\", \"japan/tokyo\", \"india/mumbai\", \"australia/sydney\"]\n",
        "\n",
        "weather_data = []\n",
        "\n",
        "for city in cities:\n",
        "    url = base_url + city\n",
        "    r = requests.get(url)\n",
        "    soup = BeautifulSoup(r.text, \"html.parser\")\n",
        "\n",
        "    city_name = soup.find(\"h1\").text.strip().replace(\"Weather in \", \"\")\n",
        "    temp = soup.find(\"div\", class_=\"h2\").text.strip()\n",
        "    condition = soup.find(\"div\", class_=\"h2\").find_next(\"p\").text.strip().rstrip(\".\")\n",
        "\n",
        "    weather_data.append([city_name, temp, condition])\n",
        "\n",
        "df_weather = pd.DataFrame(weather_data, columns=[\"City\", \"Temperature\", \"Condition\"])\n",
        "df_weather.to_csv(\"weather.csv\", index=False)\n",
        "print(df_weather)"
      ],
      "metadata": {
        "colab": {
          "base_uri": "https://localhost:8080/"
        },
        "id": "0Nm0SqqHeX42",
        "outputId": "7041b0a0-361e-41d4-aa0d-d15ac7cef603"
      },
      "execution_count": 19,
      "outputs": [
        {
          "output_type": "stream",
          "name": "stdout",
          "text": [
            "                                 City Temperature  \\\n",
            "0             New York, New York, USA       65 °F   \n",
            "1     London, England, United Kingdom       54 °F   \n",
            "2                        Tokyo, Japan       82 °F   \n",
            "3          Mumbai, Maharashtra, India       81 °F   \n",
            "4  Sydney, New South Wales, Australia       61 °F   \n",
            "\n",
            "                      Condition  \n",
            "0                         Clear  \n",
            "1                         Sunny  \n",
            "2  Thunderstorms. Broken clouds  \n",
            "3              Scattered clouds  \n",
            "4              Scattered clouds  \n"
          ]
        }
      ]
    }
  ]
}