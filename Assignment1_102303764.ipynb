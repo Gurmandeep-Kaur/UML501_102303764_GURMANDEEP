{
  "nbformat": 4,
  "nbformat_minor": 0,
  "metadata": {
    "colab": {
      "provenance": [],
      "authorship_tag": "ABX9TyO/aRkbb13ApT0Z7WVRsAyi",
      "include_colab_link": true
    },
    "kernelspec": {
      "name": "python3",
      "display_name": "Python 3"
    },
    "language_info": {
      "name": "python"
    }
  },
  "cells": [
    {
      "cell_type": "markdown",
      "metadata": {
        "id": "view-in-github",
        "colab_type": "text"
      },
      "source": [
        "<a href=\"https://colab.research.google.com/github/Gurmandeep-Kaur/UML501_102303764_GURMANDEEP/blob/main/Assignment1_102303764.ipynb\" target=\"_parent\"><img src=\"https://colab.research.google.com/assets/colab-badge.svg\" alt=\"Open In Colab\"/></a>"
      ]
    },
    {
      "cell_type": "code",
      "execution_count": 75,
      "metadata": {
        "id": "8unSpTIE3HMU"
      },
      "outputs": [],
      "source": [
        "import numpy as np"
      ]
    },
    {
      "cell_type": "code",
      "source": [
        "# 1(a)\n",
        "arr = np.array([1,2,3,6,4,5])\n",
        "reversed_arr = arr[::-1]\n",
        "print(\"Reversed array:\", reversed_arr)"
      ],
      "metadata": {
        "colab": {
          "base_uri": "https://localhost:8080/"
        },
        "id": "OGuWvCAo0hSu",
        "outputId": "3b7b0ed0-56c7-401d-a544-c73196598126"
      },
      "execution_count": 76,
      "outputs": [
        {
          "output_type": "stream",
          "name": "stdout",
          "text": [
            "Reversed array: [5 4 6 3 2 1]\n"
          ]
        }
      ]
    },
    {
      "cell_type": "code",
      "source": [
        "# 1(b)\n",
        "array1 = np.array([[1,2,3],[2,4,5],[1,2,3]])\n",
        "\n",
        "# Method 1\n",
        "flat1 = array1.flatten()\n",
        "print(\"Flattened (flatten):\", flat1)\n",
        "\n",
        "# Method 2\n",
        "flat2 = array1.ravel()\n",
        "print(\"Flattened (ravel):\", flat2)"
      ],
      "metadata": {
        "colab": {
          "base_uri": "https://localhost:8080/"
        },
        "id": "jY3H_40n33wB",
        "outputId": "2da6f54b-6a90-4962-8350-7d6aa0f2199f"
      },
      "execution_count": 77,
      "outputs": [
        {
          "output_type": "stream",
          "name": "stdout",
          "text": [
            "Flattened (flatten): [1 2 3 2 4 5 1 2 3]\n",
            "Flattened (ravel): [1 2 3 2 4 5 1 2 3]\n"
          ]
        }
      ]
    },
    {
      "cell_type": "code",
      "source": [
        "# 1(c)\n",
        "arr1 = np.array([[1,2],[3,4]])\n",
        "arr2 = np.array([[1,2],[3,4]])\n",
        "\n",
        "# Element-wise comparison\n",
        "print(\"Elements equal? \\n\", arr1==arr2, \"\\n\")\n",
        "# Entire array comparison\n",
        "print(\"Arrays equal?\", np.array_equal(arr1,arr2))"
      ],
      "metadata": {
        "colab": {
          "base_uri": "https://localhost:8080/"
        },
        "id": "sC6KU3Bw4lXg",
        "outputId": "2c43dadd-d086-4051-9e5e-a9ceadff85d2"
      },
      "execution_count": 78,
      "outputs": [
        {
          "output_type": "stream",
          "name": "stdout",
          "text": [
            "Elements equal? \n",
            " [[ True  True]\n",
            " [ True  True]] \n",
            "\n",
            "Arrays equal? True\n"
          ]
        }
      ]
    },
    {
      "cell_type": "code",
      "source": [
        "# 1(d)(i)\n",
        "x = np.array([1,2,3,4,5,1,2,1,1,1])\n",
        "val, count = np.unique(x, return_counts=True)\n",
        "most_freq = val[np.argmax(count)]\n",
        "indices = np.where(x == most_freq)\n",
        "print(\"Most frequent in x:\", most_freq)\n",
        "print(\"Indices:\", indices, \"\\n\")\n",
        "\n",
        "# 1(d)(ii)\n",
        "y = np.array([1,1,1,2,3,4,2,4,3,3])\n",
        "val, count = np.unique(y, return_counts=True)\n",
        "most_freq = val[np.argmax(count)]\n",
        "indices = np.where(y == most_freq)\n",
        "print(\"Most frequent in y:\", most_freq)\n",
        "print(\"Indices:\", indices)"
      ],
      "metadata": {
        "id": "ZYMvFGMD46nD",
        "colab": {
          "base_uri": "https://localhost:8080/"
        },
        "outputId": "b1b1cb78-1b6c-4720-e846-5fd671ac10ef"
      },
      "execution_count": 79,
      "outputs": [
        {
          "output_type": "stream",
          "name": "stdout",
          "text": [
            "Most frequent in x: 1\n",
            "Indices: (array([0, 5, 7, 8, 9]),) \n",
            "\n",
            "Most frequent in y: 1\n",
            "Indices: (array([0, 1, 2]),)\n"
          ]
        }
      ]
    },
    {
      "cell_type": "code",
      "source": [
        "gfg = np.matrix('[4,1,9;12,3,1;4,5,6]')\n",
        "\n",
        "print(\"Total sum:\", gfg.sum(), \"\\n\") # 1(e)(i)\n",
        "print(\"Row-wise sum:\\n\", gfg.sum(axis=1), \"\\n\") # 1(e)(ii)\n",
        "print(\"Column-wise sum:\",gfg.sum(axis=0)) # 1(e)(iii)"
      ],
      "metadata": {
        "colab": {
          "base_uri": "https://localhost:8080/"
        },
        "id": "UtItE_Rj2tJX",
        "outputId": "8bace5b6-ae84-4bf1-a8c7-f7cecb8937ae"
      },
      "execution_count": 80,
      "outputs": [
        {
          "output_type": "stream",
          "name": "stdout",
          "text": [
            "Total sum: 45 \n",
            "\n",
            "Row-wise sum:\n",
            " [[14]\n",
            " [16]\n",
            " [15]] \n",
            "\n",
            "Column-wise sum: [[20  9 16]]\n"
          ]
        }
      ]
    },
    {
      "cell_type": "code",
      "source": [
        "# 1(f)(i)\n",
        "n_array = np.array([[55,25,15],[30,44,2],[11,45,77]])\n",
        "print(\"Sum of diagonal elements:\", np.trace(n_array), \"\\n\")\n",
        "\n",
        "# 1(f)(ii), 1(f)(iii)\n",
        "eigenvalues, eigenvectors = np.linalg.eig(n_array)\n",
        "print(\"Eigenvalues:\", eigenvalues)\n",
        "print(\"Eigenvectors:\", eigenvectors, \"\\n\")\n",
        "\n",
        "# 1(f)(iv)\n",
        "inverse = np.linalg.inv(n_array)\n",
        "print(\"Inverse:\", inverse, \"\\n\")\n",
        "\n",
        "# 1(f)(v)\n",
        "determinant = np.linalg.det(n_array)\n",
        "print(\"Determinant:\", determinant)"
      ],
      "metadata": {
        "colab": {
          "base_uri": "https://localhost:8080/"
        },
        "id": "_8UeveZC3ZGJ",
        "outputId": "7d5a7a85-665e-4569-f903-82ee8a3105d5"
      },
      "execution_count": 81,
      "outputs": [
        {
          "output_type": "stream",
          "name": "stdout",
          "text": [
            "Sum of diagonal elements: 176 \n",
            "\n",
            "Eigenvalues: [98.16835147 28.097044   49.73460452]\n",
            "Eigenvectors: [[ 0.4574917   0.34637121 -0.15017693]\n",
            " [ 0.28447814 -0.72784061 -0.4852124 ]\n",
            " [ 0.84248058  0.59184038  0.8614034 ]] \n",
            "\n",
            "Inverse: [[ 0.02404141 -0.00911212 -0.00444671]\n",
            " [-0.01667882  0.02966905  0.0024785 ]\n",
            " [ 0.00631287 -0.01603732  0.01217379]] \n",
            "\n",
            "Determinant: 137180.0000000001\n"
          ]
        }
      ]
    },
    {
      "cell_type": "code",
      "source": [
        "# 1(g)(i)\n",
        "p = np.array([[1,2],[2,3]])\n",
        "q = np.array([[4,5],[6,7]])\n",
        "print(\"Matrix product:\\n\", np.dot(p,q), \"\\n\")\n",
        "print(\"Covarience:\\n\", np.cov(p.T,q.T), \"\\n\")\n",
        "\n",
        "# 1(g)(ii)\n",
        "p = np.array([[1,2],[2,3],[4,5]])\n",
        "q = np.array([[4,5,1],[6,7,2]])\n",
        "print(\"Matrix product:\\n\", np.dot(p,q), \"\\n\")\n",
        "print(\"Covarience:\\n\", np.cov(p.T,q))"
      ],
      "metadata": {
        "colab": {
          "base_uri": "https://localhost:8080/"
        },
        "id": "5jtcqDDe415q",
        "outputId": "456613e6-7117-4181-9b89-0236f997e8f4"
      },
      "execution_count": 82,
      "outputs": [
        {
          "output_type": "stream",
          "name": "stdout",
          "text": [
            "Matrix product:\n",
            " [[16 19]\n",
            " [26 31]] \n",
            "\n",
            "Covarience:\n",
            " [[0.5 0.5 1.  1. ]\n",
            " [0.5 0.5 1.  1. ]\n",
            " [1.  1.  2.  2. ]\n",
            " [1.  1.  2.  2. ]] \n",
            "\n",
            "Matrix product:\n",
            " [[16 19  5]\n",
            " [26 31  8]\n",
            " [46 55 14]] \n",
            "\n",
            "Covarience:\n",
            " [[ 2.33333333  2.33333333 -2.66666667 -3.5       ]\n",
            " [ 2.33333333  2.33333333 -2.66666667 -3.5       ]\n",
            " [-2.66666667 -2.66666667  4.33333333  5.5       ]\n",
            " [-3.5        -3.5         5.5         7.        ]]\n"
          ]
        }
      ]
    },
    {
      "cell_type": "code",
      "source": [
        "# 1(h)\n",
        "x = np.array([[2, 3, 4], [3, 2, 9]])\n",
        "y = np.array([[1, 5, 0], [5, 10, 3]])\n",
        "\n",
        "# Inner product (dot product of rows)\n",
        "print(\"Inner product:\\n\", np.inner(x, y), \"\\n\")\n",
        "\n",
        "# Outer product (element-wise outer)\n",
        "print(\"Outer product:\\n\", np.outer(x.flatten(), y.flatten()), \"\\n\")\n",
        "\n",
        "# Cartesian product using meshgrid\n",
        "from itertools import product\n",
        "cartesian = np.array(list(product(x.flatten(), y.flatten())))\n",
        "print(\"Cartesian product:\\n\", cartesian)"
      ],
      "metadata": {
        "colab": {
          "base_uri": "https://localhost:8080/"
        },
        "id": "F7pJquCi53RD",
        "outputId": "b0ea2a8c-aaf5-4007-c5bb-1d8399623115"
      },
      "execution_count": 83,
      "outputs": [
        {
          "output_type": "stream",
          "name": "stdout",
          "text": [
            "Inner product:\n",
            " [[17 52]\n",
            " [13 62]] \n",
            "\n",
            "Outer product:\n",
            " [[ 2 10  0 10 20  6]\n",
            " [ 3 15  0 15 30  9]\n",
            " [ 4 20  0 20 40 12]\n",
            " [ 3 15  0 15 30  9]\n",
            " [ 2 10  0 10 20  6]\n",
            " [ 9 45  0 45 90 27]] \n",
            "\n",
            "Cartesian product:\n",
            " [[ 2  1]\n",
            " [ 2  5]\n",
            " [ 2  0]\n",
            " [ 2  5]\n",
            " [ 2 10]\n",
            " [ 2  3]\n",
            " [ 3  1]\n",
            " [ 3  5]\n",
            " [ 3  0]\n",
            " [ 3  5]\n",
            " [ 3 10]\n",
            " [ 3  3]\n",
            " [ 4  1]\n",
            " [ 4  5]\n",
            " [ 4  0]\n",
            " [ 4  5]\n",
            " [ 4 10]\n",
            " [ 4  3]\n",
            " [ 3  1]\n",
            " [ 3  5]\n",
            " [ 3  0]\n",
            " [ 3  5]\n",
            " [ 3 10]\n",
            " [ 3  3]\n",
            " [ 2  1]\n",
            " [ 2  5]\n",
            " [ 2  0]\n",
            " [ 2  5]\n",
            " [ 2 10]\n",
            " [ 2  3]\n",
            " [ 9  1]\n",
            " [ 9  5]\n",
            " [ 9  0]\n",
            " [ 9  5]\n",
            " [ 9 10]\n",
            " [ 9  3]]\n"
          ]
        }
      ]
    },
    {
      "cell_type": "code",
      "source": [
        "array = np.array([[1,-2,3],[-4,5,-6]])\n",
        "\n",
        "# 2(a)(i)\n",
        "print(\"Absolute:\\n\", np.abs(array),\"\\n\")\n",
        "\n",
        "# 2(a)(ii)\n",
        "flat = array.flatten()\n",
        "print(\"Percentiles (flat):\", np.percentile(flat, [25,50,75]))\n",
        "print(\"Percentiles (column):\\n\", np.percentile(array, [25,50,75], axis=0))\n",
        "print(\"Percentiles (row):\\n\", np.percentile(array, [25,50,75], axis=1),\"\\n\")\n",
        "\n",
        "# 2(a)(iii)\n",
        "print(\"Mean (flat):\", flat.mean())\n",
        "print(\"Median (flat):\", np.median(flat))\n",
        "print(\"Std (flat):\", np.std(flat),\"\\n\")\n",
        "\n",
        "print(\"Mean (column):\", array.mean(axis=0))\n",
        "print(\"Median (column):\", np.median(array, axis=0))\n",
        "print(\"Std (column):\", np.std(array, axis=0),\"\\n\")\n",
        "\n",
        "print(\"Mean (row):\", array.mean(axis=1))\n",
        "print(\"Median (row):\", np.median(array, axis=1))\n",
        "print(\"Median (row):\", np.std(array, axis=1),\"\\n\")"
      ],
      "metadata": {
        "colab": {
          "base_uri": "https://localhost:8080/"
        },
        "id": "Lw1OHPmgr6mu",
        "outputId": "b1be9461-00ae-4cd0-c2d9-75f98e225ce9"
      },
      "execution_count": 84,
      "outputs": [
        {
          "output_type": "stream",
          "name": "stdout",
          "text": [
            "Absolute:\n",
            " [[1 2 3]\n",
            " [4 5 6]] \n",
            "\n",
            "Percentiles (flat): [-3.5 -0.5  2.5]\n",
            "Percentiles (column):\n",
            " [[-2.75 -0.25 -3.75]\n",
            " [-1.5   1.5  -1.5 ]\n",
            " [-0.25  3.25  0.75]]\n",
            "Percentiles (row):\n",
            " [[-0.5 -5. ]\n",
            " [ 1.  -4. ]\n",
            " [ 2.   0.5]] \n",
            "\n",
            "Mean (flat): -0.5\n",
            "Median (flat): -0.5\n",
            "Std (flat): 3.8622100754188224 \n",
            "\n",
            "Mean (column): [-1.5  1.5 -1.5]\n",
            "Median (column): [-1.5  1.5 -1.5]\n",
            "Std (column): [2.5 3.5 4.5] \n",
            "\n",
            "Mean (row): [ 0.66666667 -1.66666667]\n",
            "Median (row): [ 1. -4.]\n",
            "Median (row): [2.05480467 4.78423336] \n",
            "\n"
          ]
        }
      ]
    },
    {
      "cell_type": "code",
      "source": [
        "# 2(b)\n",
        "a = np.array([-1.8,-1.6,-0.5,0.5,1.6,1.8,3.0])\n",
        "print(\"Floor:\", np.floor(a))\n",
        "print(\"Ceil:\", np.ceil(a))\n",
        "print(\"Truncate:\", np.trunc(a))\n",
        "print(\"Round:\", np.round(a))"
      ],
      "metadata": {
        "colab": {
          "base_uri": "https://localhost:8080/"
        },
        "id": "4PGjSeR-tyzf",
        "outputId": "43702021-4823-44c5-f090-d9f6fc9bbf50"
      },
      "execution_count": 85,
      "outputs": [
        {
          "output_type": "stream",
          "name": "stdout",
          "text": [
            "Floor: [-2. -2. -1.  0.  1.  1.  3.]\n",
            "Ceil: [-1. -1. -0.  1.  2.  2.  3.]\n",
            "Truncate: [-1. -1. -0.  0.  1.  1.  3.]\n",
            "Round: [-2. -2. -0.  0.  2.  2.  3.]\n"
          ]
        }
      ]
    },
    {
      "cell_type": "code",
      "source": [
        "array = np.array([10,52,62,16,16,54,453])\n",
        "\n",
        "# 3(a)(i)\n",
        "sorted_arr = np.sort(array)\n",
        "print(\"Sorted array:\", sorted_arr)\n",
        "\n",
        "# 3(a)(ii)\n",
        "print(\"Sorted indices:\", np.argsort(array))\n",
        "\n",
        "# 3(a)(iii)\n",
        "print(\"4 smallest elements:\", sorted_arr[:4])\n",
        "\n",
        "# 3(a)(iv)\n",
        "print(\"5 largest elements:\", sorted_arr[-5:])"
      ],
      "metadata": {
        "colab": {
          "base_uri": "https://localhost:8080/"
        },
        "id": "AU16q4wFvUMy",
        "outputId": "b247975e-d44e-4e6b-9df7-18d9692ba7e9"
      },
      "execution_count": 86,
      "outputs": [
        {
          "output_type": "stream",
          "name": "stdout",
          "text": [
            "Sorted array: [ 10  16  16  52  54  62 453]\n",
            "Sorted indices: [0 3 4 1 5 2 6]\n",
            "4 smallest elements: [10 16 16 52]\n",
            "5 largest elements: [ 16  52  54  62 453]\n"
          ]
        }
      ]
    },
    {
      "cell_type": "code",
      "source": [
        "array = np.array([1.0,1.2,2.2,2.0,3.0,2.0])\n",
        "\n",
        "# 3(b)(i)\n",
        "int_vals = array[np.floor(array)==array]\n",
        "print(\"Integer values:\", int_vals)\n",
        "\n",
        "# 3(b)(ii)\n",
        "float_vals = array[np.floor(array)!=array]\n",
        "print(\"Float values:\", float_vals)"
      ],
      "metadata": {
        "colab": {
          "base_uri": "https://localhost:8080/"
        },
        "id": "1vQM227gwlBt",
        "outputId": "fe20c391-3125-4b57-fa6e-751c4e9adbe8"
      },
      "execution_count": 87,
      "outputs": [
        {
          "output_type": "stream",
          "name": "stdout",
          "text": [
            "Integer values: [1. 2. 3. 2.]\n",
            "Float values: [1.2 2.2]\n"
          ]
        }
      ]
    },
    {
      "cell_type": "code",
      "source": [
        "import cv2\n",
        "import matplotlib.pyplot as plt"
      ],
      "metadata": {
        "id": "TAY1ipqW0IlV"
      },
      "execution_count": 88,
      "outputs": []
    },
    {
      "cell_type": "code",
      "source": [
        "def img_to_array(path):\n",
        "    image = cv2.imread(path)\n",
        "\n",
        "    if image is not None:\n",
        "        if len(image.shape) == 2:\n",
        "            # Grayscale image\n",
        "            print(\"Grayscale image detected\\n\")\n",
        "            np.savetxt(\"/content/grayscale.txt\", image, fmt='%d')\n",
        "\n",
        "            # Loading the saved file\n",
        "            gray_image = np.loadtxt(\"/content/grayscale.txt\", dtype=np.uint8)\n",
        "            plt.imshow(gray_image, cmap='gray')\n",
        "            plt.title(\"Grayscale Image\")\n",
        "            plt.axis('off')\n",
        "            plt.show()\n",
        "\n",
        "        elif len(image.shape) == 3:\n",
        "            # Color image\n",
        "            print(\"Color image detected\\n\")\n",
        "            image_rgb = cv2.cvtColor(image, cv2.COLOR_BGR2RGB)\n",
        "            np.save(\"/content/color.npy\", image_rgb)\n",
        "\n",
        "            # Loading the saved file\n",
        "            color_image = np.load(\"/content/color.npy\")\n",
        "            plt.imshow(color_image)\n",
        "            plt.title(\"Color Image\")\n",
        "            plt.axis('off')\n",
        "            plt.show()\n",
        "\n",
        "        else:\n",
        "            print(\"Unknown image format\")\n",
        "    else:\n",
        "        print(\"Failed to read image.\")\n",
        "\n",
        "#img_to_array(\"/My folder/Colored_image.webp\")"
      ],
      "metadata": {
        "id": "-4zM7e4740uB"
      },
      "execution_count": 89,
      "outputs": []
    }
  ]
}